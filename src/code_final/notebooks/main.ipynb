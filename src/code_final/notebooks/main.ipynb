{
 "cells": [
  {
   "cell_type": "code",
   "execution_count": 22,
   "id": "8a180529-05ee-4af3-ac40-f9169533336f",
   "metadata": {},
   "outputs": [],
   "source": [
    "openai_key = \"sk-wBPEE7XTm2rXiTc4ux4LkFEUfARLpl8zgAisgfja6yT3BlbkFJQs8x0TQMWv2_j-69UEkR5UzNPyxlm9oKbhVsOr5IMA\""
   ]
  },
  {
   "cell_type": "code",
   "execution_count": 23,
   "id": "68c1d722-e21b-4237-8b52-201bc6b49e95",
   "metadata": {},
   "outputs": [],
   "source": [
    "from langchain_openai import ChatOpenAI\n",
    "from langchain_openai import OpenAIEmbeddings\n",
    "\n",
    "from langchain_core.prompts import ChatPromptTemplate\n",
    "from langchain.chains import create_retrieval_chain\n",
    "from langchain_text_splitters import RecursiveCharacterTextSplitter\n",
    "from langchain.chains.combine_documents import create_stuff_documents_chain\n",
    "from langchain import hub\n",
    "from langchain_chroma import Chroma\n",
    "from langchain_community.document_loaders.word_document import Docx2txtLoader\n",
    "from langchain_community.document_loaders.csv_loader import CSVLoader\n",
    "\n",
    "from tqdm import tqdm\n",
    "import bs4\n",
    "from bs4 import BeautifulSoup\n",
    "import requests\n",
    "from docx import Document\n",
    "from langchain_community.document_loaders import WebBaseLoader"
   ]
  },
  {
   "cell_type": "code",
   "execution_count": 24,
   "id": "1cc6cca3-b132-4a68-8c66-0713ff253765",
   "metadata": {},
   "outputs": [],
   "source": [
    "## source document\n",
    "url = \"https://eclinic.mn/patient/blog/\"\n",
    "urls = []\n",
    "for i in range(1, 5):\n",
    "    urls.append(f\"{url}{i}\")"
   ]
  },
  {
   "cell_type": "code",
   "execution_count": 25,
   "id": "2fe881c7-0d4e-4642-89b8-f11321fdb580",
   "metadata": {},
   "outputs": [
    {
     "name": "stderr",
     "output_type": "stream",
     "text": [
      "  0%|                                                                                            | 0/4 [00:00<?, ?it/s]"
     ]
    },
    {
     "name": "stdout",
     "output_type": "stream",
     "text": [
      "https://eclinic.mn/patient/blog/1\n"
     ]
    },
    {
     "name": "stderr",
     "output_type": "stream",
     "text": [
      " 25%|█████████████████████                                                               | 1/4 [00:00<00:02,  1.30it/s]"
     ]
    },
    {
     "name": "stdout",
     "output_type": "stream",
     "text": [
      "https://eclinic.mn/patient/blog/2\n"
     ]
    },
    {
     "name": "stderr",
     "output_type": "stream",
     "text": [
      " 50%|██████████████████████████████████████████                                          | 2/4 [00:01<00:01,  1.28it/s]"
     ]
    },
    {
     "name": "stdout",
     "output_type": "stream",
     "text": [
      "https://eclinic.mn/patient/blog/3\n"
     ]
    },
    {
     "name": "stderr",
     "output_type": "stream",
     "text": [
      " 75%|███████████████████████████████████████████████████████████████                     | 3/4 [00:02<00:00,  1.18it/s]"
     ]
    },
    {
     "name": "stdout",
     "output_type": "stream",
     "text": [
      "https://eclinic.mn/patient/blog/4\n"
     ]
    },
    {
     "name": "stderr",
     "output_type": "stream",
     "text": [
      "100%|████████████████████████████████████████████████████████████████████████████████████| 4/4 [00:03<00:00,  1.23it/s]\n"
     ]
    }
   ],
   "source": [
    "doc = Document()\n",
    "\n",
    "for url in tqdm(urls):\n",
    "    print(url)\n",
    "    r = requests.get(url)\n",
    "    # Parsing the HTML\n",
    "    soup = BeautifulSoup(r.content, 'html.parser')\n",
    "    text = soup.get_text(separator=' ', strip=True)\n",
    "    doc.add_paragraph(text)"
   ]
  },
  {
   "cell_type": "code",
   "execution_count": 26,
   "id": "12120b23-6224-477e-8a34-4048b481ffc3",
   "metadata": {},
   "outputs": [],
   "source": [
    "doc_path = \"ecilinic.docx\"\n",
    "doc.save(doc_path)"
   ]
  },
  {
   "cell_type": "code",
   "execution_count": 27,
   "id": "1f19a9cc-3041-47d5-a393-432d2f68fc1f",
   "metadata": {},
   "outputs": [],
   "source": [
    "import re\n",
    "def preprocess(text):\n",
    "    text = text.replace(' .', '.')\n",
    "    text = text.replace(' ,', ',')\n",
    "    text = text.replace(\"\\n\", \"\")\n",
    "    text = re.sub('[^A-Za-zА-яӨөҮүЁё0-9!\"\"#$%&()*+,-./;<=>?@^_`\\[\\]{}:]+', \" \", text)\n",
    "    return text.strip()"
   ]
  },
  {
   "cell_type": "code",
   "execution_count": 28,
   "id": "0c39a0d8-9dd6-42dc-9aaf-31bdc2ce4177",
   "metadata": {},
   "outputs": [
    {
     "data": {
      "text/plain": [
       "15851"
      ]
     },
     "execution_count": 28,
     "metadata": {},
     "output_type": "execute_result"
    }
   ],
   "source": [
    "len(docs[0].page_content)"
   ]
  },
  {
   "cell_type": "markdown",
   "id": "3cd6d2f2-b3c0-482e-95bb-d8d77adb62ba",
   "metadata": {},
   "source": [
    "## Rag preparation"
   ]
  },
  {
   "cell_type": "code",
   "execution_count": 30,
   "id": "5f32fcc0-d22c-43dd-921d-1974844bcab5",
   "metadata": {},
   "outputs": [],
   "source": [
    "system_prompt = (\n",
    "    \"You are an assistant of Healthcare for question-answering tasks. \"\n",
    "    \"Use the following context to answer the question. If you don't know the answer, say that you \"\n",
    "    \"don't know. Use 5 sentences maximum and keep the answer concise.\"\n",
    "    \"\\n\\n\"\n",
    "    \"{context}\")\n",
    "\n",
    "prompt = ChatPromptTemplate.from_messages([\n",
    "    (\"system\", system_prompt),\n",
    "    (\"human\", \"{input}\")\n",
    "])\n",
    "\n",
    "llm = ChatOpenAI(model=\"gpt-4o-mini\",\n",
    "                 temperature=0.05,\n",
    "                 max_tokens=None,\n",
    "                 timeout=None,\n",
    "                 max_retries=2,\n",
    "                 api_key=openai_key)\n",
    "\n",
    "question_answer_chain = create_stuff_documents_chain(llm, prompt)\n"
   ]
  },
  {
   "cell_type": "code",
   "execution_count": 31,
   "id": "3e6cd642-1b90-482d-8925-796d16c81c66",
   "metadata": {},
   "outputs": [],
   "source": [
    "chunk_size = int((1.2*len(docs[0].page_content))/154)"
   ]
  },
  {
   "cell_type": "code",
   "execution_count": 32,
   "id": "1c7e9d53-0b61-4cb0-8ea9-17b6671b9fae",
   "metadata": {},
   "outputs": [
    {
     "data": {
      "text/plain": [
       "123"
      ]
     },
     "execution_count": 32,
     "metadata": {},
     "output_type": "execute_result"
    }
   ],
   "source": [
    "chunk_size"
   ]
  },
  {
   "cell_type": "code",
   "execution_count": 33,
   "id": "cac917b0-10b8-4f2a-b5d5-99bcc551a139",
   "metadata": {},
   "outputs": [
    {
     "data": {
      "application/vnd.jupyter.widget-view+json": {
       "model_id": "ce5bc9e8e1ef4b3092537548e77a3d29",
       "version_major": 2,
       "version_minor": 0
      },
      "text/plain": [
       "  0%|          | 0/1 [00:00<?, ?it/s]"
      ]
     },
     "metadata": {},
     "output_type": "display_data"
    }
   ],
   "source": [
    "text_splitter = RecursiveCharacterTextSplitter(chunk_size=int(1.2*chunk_size), \n",
    "                                               chunk_overlap=int(0.1*chunk_size),\n",
    "                                               is_separator_regex=False,  \n",
    "                                               separators=[\"?\", \"!\", \"\\n\\n\"])\n",
    "all_splits = text_splitter.split_documents(docs)\n",
    "vectorstore = Chroma.from_documents(documents=all_splits, \n",
    "                                    embedding=OpenAIEmbeddings(api_key=openai_key, \n",
    "                                                               show_progress_bar=True))\n",
    "retriever = vectorstore.as_retriever()"
   ]
  },
  {
   "cell_type": "code",
   "execution_count": 34,
   "id": "9d575061-90ca-479e-9ae9-c6b723f44bec",
   "metadata": {},
   "outputs": [],
   "source": [
    "rag_chain = create_retrieval_chain(retriever, question_answer_chain)"
   ]
  },
  {
   "cell_type": "code",
   "execution_count": 35,
   "id": "4b30028d-03b2-444a-9403-4c91861c2da4",
   "metadata": {},
   "outputs": [],
   "source": [
    "from colorama import Fore, Back, Style"
   ]
  },
  {
   "cell_type": "code",
   "execution_count": null,
   "id": "6d18459d-13cd-47b0-b090-81cad1307702",
   "metadata": {},
   "outputs": [
    {
     "name": "stdin",
     "output_type": "stream",
     "text": [
      "Enter your question:  Үс унаад байна ямар арга хэмжээ авах уу\n"
     ]
    },
    {
     "data": {
      "application/vnd.jupyter.widget-view+json": {
       "model_id": "82dbcbd1c0384e2ca36d31d10853be86",
       "version_major": 2,
       "version_minor": 0
      },
      "text/plain": [
       "  0%|          | 0/1 [00:00<?, ?it/s]"
      ]
     },
     "metadata": {},
     "output_type": "display_data"
    },
    {
     "name": "stdout",
     "output_type": "stream",
     "text": [
      "\u001b[31mAnswer:  Үс уналтыг зогсоохын тулд хэд хэдэн арга хэмжээ авах боломжтой. Нэгдүгээрт, арьсны чийгшлийг тогтмол байлгахын тулд чийгшүүлэгч бүтээгдэхүүн хэрэглэх хэрэгтэй. Хоёрдугаарт, илүүдэл тос болон бохирдлыг арилгахын тулд нүүрээ өдөрт 2 удаа угаах нь чухал. Мөн зөөлөн гуужуулагч ашиглах, гарынхаа хүрэлцээг багасгах, батгыг оролдож шахахгүй байх хэрэгтэй. Хэрвээ асуудал үргэлжилбэл мэргэжлийн эмчид хандахыг зөвлөж байна.\n"
     ]
    },
    {
     "name": "stdin",
     "output_type": "stream",
     "text": [
      "Enter your question:  Үс унаад байна ямар арга хэмжээ авахуу дугаарлаад хэлээд өгөөч\n"
     ]
    },
    {
     "data": {
      "application/vnd.jupyter.widget-view+json": {
       "model_id": "03ba53a337aa4bff87d04e6c8db6cfdc",
       "version_major": 2,
       "version_minor": 0
      },
      "text/plain": [
       "  0%|          | 0/1 [00:00<?, ?it/s]"
      ]
     },
     "metadata": {},
     "output_type": "display_data"
    },
    {
     "name": "stdout",
     "output_type": "stream",
     "text": [
      "\u001b[31mAnswer:  1. Арьсны чийгшлийг тогтмол байлгахын тулд чийгшүүлэгч бүтээгдэхүүн хэрэглэх.\n",
      "2. Зөөлөн гуужуулагч ашиглах, хэт хүчтэй гуужуулахаас зайлсхийх.\n",
      "3. Нүүрэндээ гараараа хүрэхгүй байх, арьсыг ширүүн үрэхгүй байх.\n",
      "4. Хэрэв шаардлагатай бол мэргэжлийн эмчид хандаж, зөвлөгөө авах.\n",
      "5. Амин дэм, эрдэс бодисын дутагдлыг арилгахын тулд тэнцвэртэй хооллолт хийх.\n"
     ]
    },
    {
     "name": "stdin",
     "output_type": "stream",
     "text": [
      "Enter your question:  батга гараад байна ямар арга хэмжээ авах уу\n"
     ]
    },
    {
     "data": {
      "application/vnd.jupyter.widget-view+json": {
       "model_id": "39137317c308412eb90b632b11926188",
       "version_major": 2,
       "version_minor": 0
      },
      "text/plain": [
       "  0%|          | 0/1 [00:00<?, ?it/s]"
      ]
     },
     "metadata": {},
     "output_type": "display_data"
    },
    {
     "name": "stdout",
     "output_type": "stream",
     "text": [
      "\u001b[31mAnswer:  Батга гараад байвал нүүрээ өдөрт 2 удаа зөөлөн угааж, хэт их савандаж угаахаас зайлсхийх хэрэгтэй. Арьсны чийглэгийг хадгалахын тулд чийгшүүлэгч бүтээгдэхүүн хэрэглэх нь чухал. Зөөлөн гуужуулагчийг хэрэглэж, батгыг оролдож, шахахгүй байх хэрэгтэй. Мөн нүүрэндээ гараараа хүрэхгүй байхыг анхаараарай. Хэрэв батга үргэлжилбэл эмчид хандах нь зүйтэй.\n"
     ]
    },
    {
     "name": "stdin",
     "output_type": "stream",
     "text": [
      "Enter your question:  үс үналтыг зогсоох 5 арга\n"
     ]
    },
    {
     "data": {
      "application/vnd.jupyter.widget-view+json": {
       "model_id": "12e3b1f595d04662851f88d858b1e1c1",
       "version_major": 2,
       "version_minor": 0
      },
      "text/plain": [
       "  0%|          | 0/1 [00:00<?, ?it/s]"
      ]
     },
     "metadata": {},
     "output_type": "display_data"
    },
    {
     "name": "stdout",
     "output_type": "stream",
     "text": [
      "\u001b[31mAnswer:  Үс уналтыг зогсоохын тулд дараах 5 аргыг хэрэгжүүлж болно:\n",
      "\n",
      "1. Зөв хооллолт: Витамин, минерал, амин хүчил агуулсан хоол хүнс хэрэглэх.\n",
      "2. Стрессийг бууруулах: Сэтгэл зүйн стрессийг удирдах арга техникийг ашиглах.\n",
      "3. Арьс болон үсний арчилгаа: Үсний тос, чийгшүүлэгч бүтээгдэхүүн хэрэглэх.\n",
      "4. Эмчилгээ: Эмчийн зөвлөгөөгөөр үсний уналтын эмчилгээ хийлгэх.\n",
      "5. Хэт их халуун, химийн бүтээгдэхүүнээс зайлсхийх: Үсийг хэт их халуунд хатаах, химийн боловсруулалт хийхээс татгалзах.\n"
     ]
    }
   ],
   "source": [
    "valid_response = False\n",
    "while not valid_response:\n",
    "    question = Fore.RED+input(\"Enter your question: \")\n",
    "    if question.lower() == 'yes':\n",
    "        valid_response = True\n",
    "    else:\n",
    "        response = rag_chain.invoke({\"input\": question})\n",
    "        print(Fore.RED+\"Answer: \", response[\"answer\"])"
   ]
  },
  {
   "cell_type": "code",
   "execution_count": null,
   "id": "6df72fd7-ea63-4b89-9687-27fa8ec46a97",
   "metadata": {},
   "outputs": [],
   "source": []
  }
 ],
 "metadata": {
  "kernelspec": {
   "display_name": "Python 3 (ipykernel)",
   "language": "python",
   "name": "python3"
  },
  "language_info": {
   "codemirror_mode": {
    "name": "ipython",
    "version": 3
   },
   "file_extension": ".py",
   "mimetype": "text/x-python",
   "name": "python",
   "nbconvert_exporter": "python",
   "pygments_lexer": "ipython3",
   "version": "3.11.6"
  }
 },
 "nbformat": 4,
 "nbformat_minor": 5
}
